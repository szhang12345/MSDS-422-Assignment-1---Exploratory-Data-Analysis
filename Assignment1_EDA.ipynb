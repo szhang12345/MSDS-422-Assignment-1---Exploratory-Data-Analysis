{
  "nbformat": 4,
  "nbformat_minor": 0,
  "metadata": {
    "colab": {
      "name": "Assignment1_EDA.ipynb",
      "provenance": [],
      "collapsed_sections": [],
      "authorship_tag": "ABX9TyOMKr0RvkhhGWjmgtj6oOo0",
      "include_colab_link": true
    },
    "kernelspec": {
      "name": "python3",
      "display_name": "Python 3"
    }
  },
  "cells": [
    {
      "cell_type": "markdown",
      "metadata": {
        "id": "view-in-github",
        "colab_type": "text"
      },
      "source": [
        "<a href=\"https://colab.research.google.com/github/szhang12345/MSDS-422-Assignment-1---Exploratory-Data-Analysis/blob/main/Assignment1_EDA.ipynb\" target=\"_parent\"><img src=\"https://colab.research.google.com/assets/colab-badge.svg\" alt=\"Open In Colab\"/></a>"
      ]
    },
    {
      "cell_type": "markdown",
      "metadata": {
        "id": "4vdfzElVLcJ_"
      },
      "source": [
        "MSDS 422 Assignment 1: Exploring and Visualizing Data\r\n",
        "\r\n",
        "**By Siying Zhang**\r\n",
        "\r\n",
        "\r\n",
        "**Topic:** The spread of COVID 19 (incidence) and its fatality rate \r\n",
        "\r\n",
        "**Data Source**\r\n",
        "\r\n",
        "https://www.ecdc.europa.eu/en/publications-data/download-todays-data-geographic-distribution-covid-19-cases-worldwide\r\n",
        "\r\n",
        "*CoLab Shared Link - this notebook*\r\n",
        "https://colab.research.google.com/drive/1gaq5O6_R95mr2VIYfuL_JeBj-2jszPLV?authuser=5#scrollTo=4vdfzElVLcJ_\r\n",
        "\r\n",
        "**Table of contents:**\r\n",
        "\r\n",
        "System & Data Preparation\r\n",
        "*   Load Relevant Packages\r\n",
        "*   Load Data from CSV\r\n",
        "*   Rename Columns\r\n",
        "*   Drop Negative Values\r\n",
        "*   Drop Missing Values\r\n",
        "\r\n",
        "Data Exploration & Visualization\r\n",
        "*   Features Creation\r\n",
        "*   Time Series Analysis of Incidence\r\n",
        "*   Time Series Analysis of Fatality\r\n",
        "*   Incidence Distribution\r\n",
        "*   Incidence Distribution by Continent\r\n",
        "\r\n",
        "\r\n",
        "Data scaling and comparisons\r\n",
        "*   Standard Scaling\r\n",
        "*   Min-max Scaling\r\n",
        "*   Comparison\r\n",
        "\r\n",
        "Insights from analysis"
      ]
    },
    {
      "cell_type": "markdown",
      "metadata": {
        "id": "SKH8oIN6Pask"
      },
      "source": [
        "**System & Data Preparation**"
      ]
    },
    {
      "cell_type": "markdown",
      "metadata": {
        "id": "-s3_M7f-7x3u"
      },
      "source": [
        "Load relevant packages"
      ]
    },
    {
      "cell_type": "code",
      "metadata": {
        "id": "qmK9b7jFPIlA"
      },
      "source": [
        "import pandas as pd \r\n",
        "import numpy as np \r\n",
        "import matplotlib \r\n",
        "import matplotlib.pyplot as plt  \r\n",
        "import seaborn as sns  \r\n",
        "import io\r\n",
        "from sklearn.preprocessing import MinMaxScaler\r\n",
        "from sklearn.preprocessing import StandardScaler\r\n",
        "from fa_kit import FactorAnalysis\r\n",
        "from matplotlib.backends.backend_pdf import PdfPages"
      ],
      "execution_count": null,
      "outputs": []
    },
    {
      "cell_type": "code",
      "metadata": {
        "id": "hL5y5MaHP-Tk"
      },
      "source": [
        "# suppress warning messages\r\n",
        "def warn(*args, **kwargs):\r\n",
        "    pass\r\n",
        "import warnings\r\n",
        "warnings.warn = warn"
      ],
      "execution_count": null,
      "outputs": []
    },
    {
      "cell_type": "code",
      "metadata": {
        "id": "3_j4HYG8RpY8"
      },
      "source": [
        "# correlation heat map setup for seaborn\r\n",
        "def corr_chart(df_corr):\r\n",
        "    corr=df_corr.corr()\r\n",
        "    #screen top half to get a triangle\r\n",
        "    top = np.zeros_like(corr, dtype=np.bool)\r\n",
        "    top[np.triu_indices_from(top)] = True\r\n",
        "    fig=plt.figure()\r\n",
        "    fig, ax = plt.subplots(figsize=(12,12))\r\n",
        "    sns.heatmap(corr, mask=top, cmap='coolwarm', \r\n",
        "        center = 0, square=True, \r\n",
        "        linewidths=.5, cbar_kws={'shrink':.5}, \r\n",
        "        annot = True, annot_kws={'size': 9}, fmt = '.3f')           \r\n",
        "    plt.xticks(rotation=45) # rotate variable labels on columns (x axis)\r\n",
        "    plt.yticks(rotation=0) # use horizontal variable labels on rows (y axis)\r\n",
        "    plt.title('Correlation Heat Map')   \r\n",
        "    plt.savefig('plot-corr-map.pdf', \r\n",
        "        bbox_inches = 'tight', dpi=None, facecolor='w', edgecolor='b', \r\n",
        "        orientation='portrait', papertype=None, format=None, \r\n",
        "        transparent=True, pad_inches=0.25, frameon=None)      \r\n",
        "\r\n",
        "np.set_printoptions(precision=3)\r\n",
        "plt.rcParams['figure.dpi'] = 100\r\n"
      ],
      "execution_count": null,
      "outputs": []
    },
    {
      "cell_type": "markdown",
      "metadata": {
        "id": "zmX9MAmU76ei"
      },
      "source": [
        "Load data from the csv and gather descriptive information of dataframe"
      ]
    },
    {
      "cell_type": "code",
      "metadata": {
        "id": "ucfzWqV5lMIh"
      },
      "source": [
        "df = pd.read_csv('data.csv')\r\n",
        "df.head()\r\n",
        "df.info()\r\n",
        "df.describe()\r\n",
        "df.shape"
      ],
      "execution_count": null,
      "outputs": []
    },
    {
      "cell_type": "markdown",
      "metadata": {
        "id": "0hMSb3Aw60S6"
      },
      "source": [
        "Rename Columns"
      ]
    },
    {
      "cell_type": "code",
      "metadata": {
        "id": "1UuKGvgi6U4i"
      },
      "source": [
        "'''based on calculation, it appears that notification_rate_per_100000_population_14-days is 14 days cases per 100k population by country\r\n",
        ", shorten the variable/column names for variables to reflect info'''\r\n",
        "df = df.rename(index=str, columns={\r\n",
        "    'dateRep': 'date',\r\n",
        "    'year_week': 'yweek',\r\n",
        "    'cases_weekly': 'cases_weekly',\r\n",
        "    'deaths_weekly': 'deaths_weekly',\r\n",
        "    'countriesAndTerritories': 'country',\r\n",
        "        'geoId': 'geoId',\r\n",
        "    'countryterritoryCode': 'countrycode',\r\n",
        "        'popData2019': 'pop2019',\r\n",
        "    'continentExp': 'continent',\r\n",
        "        'continentExp': 'continent',\r\n",
        "    'notification_rate_per_100000_population_14-days': 'cases_14d_per_100k'})"
      ],
      "execution_count": null,
      "outputs": []
    },
    {
      "cell_type": "markdown",
      "metadata": {
        "id": "pDG89w057roy"
      },
      "source": [
        "Drop Negative Values"
      ]
    },
    {
      "cell_type": "code",
      "metadata": {
        "id": "DboUOtQW6jBw"
      },
      "source": [
        "'''description indicates there are negative numbers in variables cases_weekly and deaths_weekly,\r\n",
        "which could be data collection error, drop negative values to improve data quality'''\r\n",
        "df=df.drop(df[(df.cases_weekly<0)|(df.deaths_weekly<0)].index)"
      ],
      "execution_count": null,
      "outputs": []
    },
    {
      "cell_type": "markdown",
      "metadata": {
        "id": "yxFH8tKvEnya"
      },
      "source": [
        "Drop Missing Values"
      ]
    },
    {
      "cell_type": "code",
      "metadata": {
        "id": "UaUMI7d2EoKN"
      },
      "source": [
        "'''description indicates there are missing values in pop2019, since missing value compose small portion, \r\n",
        "drop rows with missing values in pop2019 to improve data quality'''\r\n",
        "df=df.dropna(subset=[\"pop2019\"])\r\n",
        "df.shape"
      ],
      "execution_count": null,
      "outputs": []
    },
    {
      "cell_type": "markdown",
      "metadata": {
        "id": "wZtEYyDX8Bag"
      },
      "source": [
        "**Data Exploration & Visualization**\r\n"
      ]
    },
    {
      "cell_type": "markdown",
      "metadata": {
        "id": "cA3uFs--8Foe"
      },
      "source": [
        "Features Creation"
      ]
    },
    {
      "cell_type": "code",
      "metadata": {
        "id": "2k7pCDdL6o0z"
      },
      "source": [
        "#Create weekly case rate and death rate per million in the population\r\n",
        "df['case_rate_weekly_per_1m']=df['cases_weekly']*1000000/df['pop2019']\r\n",
        "df['death_rate_weekly_per_1m']=df['deaths_weekly']*1000000/df['pop2019']\r\n",
        "df.describe()\r\n"
      ],
      "execution_count": null,
      "outputs": []
    },
    {
      "cell_type": "markdown",
      "metadata": {
        "id": "k7puPVOo8Srp"
      },
      "source": [
        "Distribution of Weekly Incidence and Fatality"
      ]
    },
    {
      "cell_type": "code",
      "metadata": {
        "id": "Z_PHe8LC8T7b"
      },
      "source": [
        "#plot distribution of weekly incidence and fatality as well as incidence rate and fatality rate in one graph\r\n",
        "f, axes = plt.subplots(2, 2, figsize=(15, 15), sharex=False)\r\n",
        "f.suptitle('Distribution of Incidence and Fatality', size = 16, y=.9)\r\n",
        "sns.distplot(df[\"cases_weekly\"] , color=\"blue\", ax=axes[0, 0])\r\n",
        "sns.distplot(df[\"deaths_weekly\"] , color=\"red\", ax=axes[0, 1])\r\n",
        "sns.distplot(df[\"case_rate_weekly_per_1m\"] , color=\"blue\", ax=axes[1, 0])\r\n",
        "sns.distplot(df[\"death_rate_weekly_per_1m\"], color=\"red\", ax=axes[1, 1])\r\n",
        "f.savefig('Incidence and Fatality Distribution' + '.pdf', \r\n",
        "    bbox_inches = 'tight', dpi=None, facecolor='w', edgecolor='b', \r\n",
        "    orientation='portrait', papertype=None, format=None, \r\n",
        "    transparent=True, pad_inches=0.25, frameon=None)"
      ],
      "execution_count": null,
      "outputs": []
    },
    {
      "cell_type": "markdown",
      "metadata": {
        "id": "2nk6zO92Q9tS"
      },
      "source": [
        "Distribution of Weekly Incidence and Fatality by Continent"
      ]
    },
    {
      "cell_type": "code",
      "metadata": {
        "id": "0yGOOLKcQ-oS"
      },
      "source": [
        "#plot distribution of weekly incidence and fatality by continent as well as incidence rate and fatality rate by continent\r\n",
        "sns.displot(df,x=\"cases_weekly\", hue='continent', kind='kde', multiple='stack')\r\n",
        "sns.displot(df,x=\"deaths_weekly\", hue='continent', kind='kde', multiple='stack')\r\n",
        "sns.displot(df, x=\"case_rate_weekly_per_1m\", hue='continent', kind='kde', multiple='stack')\r\n",
        "sns.displot(df, x=\"death_rate_weekly_per_1m\", hue='continent', kind='kde', multiple='stack')"
      ],
      "execution_count": null,
      "outputs": []
    },
    {
      "cell_type": "markdown",
      "metadata": {
        "id": "ZR5u2ONEMVZk"
      },
      "source": [
        "Scatter Plot of Weekly Incidence and Fatality by Continent"
      ]
    },
    {
      "cell_type": "code",
      "metadata": {
        "id": "t_c6gGBZMYCL"
      },
      "source": [
        "#scatter plot weekly incidence and fatality by continent as well as incidence rate and fatality rate by continent in one graph\r\n",
        "f, axes = plt.subplots(2, 2, figsize=(15, 15), sharex=False)\r\n",
        "f.suptitle('Incidence and Fatality by Continent', size = 16, y=.9)\r\n",
        "sns.scatterplot(df[\"cases_weekly\"] , df['continent'], hue=df['continent'], ax=axes[0, 0])\r\n",
        "sns.scatterplot(df[\"deaths_weekly\"] , df['continent'], hue=df['continent'], ax=axes[0, 1])\r\n",
        "sns.scatterplot(df[\"case_rate_weekly_per_1m\"] , df['continent'], hue=df['continent'], ax=axes[1, 0])\r\n",
        "sns.scatterplot(df[\"death_rate_weekly_per_1m\"], df['continent'], hue=df['continent'], ax=axes[1, 1])\r\n",
        "f.savefig('Incidence and Fatality by Continent' + '.pdf', \r\n",
        "    bbox_inches = 'tight', dpi=None, facecolor='w', edgecolor='b', \r\n",
        "    orientation='portrait', papertype=None, format=None, \r\n",
        "    transparent=True, pad_inches=0.25, frameon=None)"
      ],
      "execution_count": null,
      "outputs": []
    },
    {
      "cell_type": "markdown",
      "metadata": {
        "id": "DontOoFi8LkX"
      },
      "source": [
        "Time Series Analysis of Incidence"
      ]
    },
    {
      "cell_type": "code",
      "metadata": {
        "id": "3ejPVG-p8PSJ"
      },
      "source": [
        ""
      ],
      "execution_count": null,
      "outputs": []
    },
    {
      "cell_type": "markdown",
      "metadata": {
        "id": "ceTnNdYJ8On0"
      },
      "source": [
        "\r\n",
        "Time Series Analysis of Fatality"
      ]
    },
    {
      "cell_type": "code",
      "metadata": {
        "id": "JFfDlBLX8OWz"
      },
      "source": [
        ""
      ],
      "execution_count": null,
      "outputs": []
    },
    {
      "cell_type": "markdown",
      "metadata": {
        "id": "ig3Ixzz18UkZ"
      },
      "source": [
        "Incidence Distribution by Continent"
      ]
    },
    {
      "cell_type": "code",
      "metadata": {
        "id": "vmY0YavW8a8h"
      },
      "source": [
        ""
      ],
      "execution_count": null,
      "outputs": []
    }
  ]
}